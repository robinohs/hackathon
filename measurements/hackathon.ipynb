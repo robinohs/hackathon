{
 "cells": [
  {
   "cell_type": "markdown",
   "metadata": {},
   "source": [
    "# PEACHES Hackathon - Carbond\n",
    "\n",
    "At this point you should have seen the short presentation on what Carbond is and know the context."
   ]
  },
  {
   "cell_type": "markdown",
   "metadata": {},
   "source": [
    "## Approach\n",
    "\n",
    "__Goal:__ We want to measure the operational and embodied emissions of our CPU.\n",
    "\n",
    "To achieve this we will measure the CPU package power and the CPU cycles for a number of executions of the `factorial` function.\n",
    "\n",
    "This notebook should be run twice, once while on wall power, and once while on battery.<br/>\n",
    "Copy the results of both runs and compare them. What are the differences?"
   ]
  },
  {
   "cell_type": "markdown",
   "metadata": {},
   "source": [
    "## Execution\n",
    "\n",
    "#### 1. Generate Energy/Cycles Measurements\n",
    "\n",
    "First we need to generate energy and cycles measurements, which can then be converted to operational and attributed embodied carbon emissions.<br/>\n",
    "For this, we will calculate the factorial of 100_000 150 times.\n",
    "\n",
    "For this execute the file `measure_factorial.py` as admin.<br/>\n",
    "(For security reasons (side channels), RAPL is only available for root)<br/>\n",
    "Therefore, this can be done by:\n",
    "```bash\n",
    "cd ~/carbond-hackathon/measurements\n",
    "sudo .venv/bin/python3 measurements/measure_factorial.py\n",
    "```"
   ]
  },
  {
   "cell_type": "markdown",
   "metadata": {},
   "source": [
    "#### 2. Import required libraries"
   ]
  },
  {
   "cell_type": "code",
   "execution_count": 110,
   "metadata": {},
   "outputs": [],
   "source": [
    "import pandas as pd\n",
    "from pathlib import Path"
   ]
  },
  {
   "cell_type": "markdown",
   "metadata": {},
   "source": [
    "#### 3. Load the results"
   ]
  },
  {
   "cell_type": "code",
   "execution_count": 111,
   "metadata": {},
   "outputs": [
    {
     "data": {
      "text/html": [
       "<div>\n",
       "<style scoped>\n",
       "    .dataframe tbody tr th:only-of-type {\n",
       "        vertical-align: middle;\n",
       "    }\n",
       "\n",
       "    .dataframe tbody tr th {\n",
       "        vertical-align: top;\n",
       "    }\n",
       "\n",
       "    .dataframe thead th {\n",
       "        text-align: right;\n",
       "    }\n",
       "</style>\n",
       "<table border=\"1\" class=\"dataframe\">\n",
       "  <thead>\n",
       "    <tr style=\"text-align: right;\">\n",
       "      <th></th>\n",
       "      <th>timestamp</th>\n",
       "      <th>tag</th>\n",
       "      <th>duration</th>\n",
       "      <th>package_0</th>\n",
       "      <th>core_0</th>\n",
       "      <th>uncore_0</th>\n",
       "    </tr>\n",
       "  </thead>\n",
       "  <tbody>\n",
       "    <tr>\n",
       "      <th>0</th>\n",
       "      <td>1.724340e+09</td>\n",
       "      <td>factorial</td>\n",
       "      <td>0.145252</td>\n",
       "      <td>2347650.0</td>\n",
       "      <td>1707515.0</td>\n",
       "      <td>42358.0</td>\n",
       "    </tr>\n",
       "    <tr>\n",
       "      <th>1</th>\n",
       "      <td>1.724340e+09</td>\n",
       "      <td>factorial</td>\n",
       "      <td>0.144044</td>\n",
       "      <td>2137019.0</td>\n",
       "      <td>1534664.0</td>\n",
       "      <td>31983.0</td>\n",
       "    </tr>\n",
       "    <tr>\n",
       "      <th>2</th>\n",
       "      <td>1.724340e+09</td>\n",
       "      <td>factorial</td>\n",
       "      <td>0.142851</td>\n",
       "      <td>2148493.0</td>\n",
       "      <td>1550777.0</td>\n",
       "      <td>29540.0</td>\n",
       "    </tr>\n",
       "    <tr>\n",
       "      <th>3</th>\n",
       "      <td>1.724340e+09</td>\n",
       "      <td>factorial</td>\n",
       "      <td>0.148821</td>\n",
       "      <td>2542841.0</td>\n",
       "      <td>1894893.0</td>\n",
       "      <td>34790.0</td>\n",
       "    </tr>\n",
       "    <tr>\n",
       "      <th>4</th>\n",
       "      <td>1.724340e+09</td>\n",
       "      <td>factorial</td>\n",
       "      <td>0.195693</td>\n",
       "      <td>3372550.0</td>\n",
       "      <td>2354608.0</td>\n",
       "      <td>144165.0</td>\n",
       "    </tr>\n",
       "  </tbody>\n",
       "</table>\n",
       "</div>"
      ],
      "text/plain": [
       "      timestamp        tag  duration  package_0     core_0  uncore_0\n",
       "0  1.724340e+09  factorial  0.145252  2347650.0  1707515.0   42358.0\n",
       "1  1.724340e+09  factorial  0.144044  2137019.0  1534664.0   31983.0\n",
       "2  1.724340e+09  factorial  0.142851  2148493.0  1550777.0   29540.0\n",
       "3  1.724340e+09  factorial  0.148821  2542841.0  1894893.0   34790.0\n",
       "4  1.724340e+09  factorial  0.195693  3372550.0  2354608.0  144165.0"
      ]
     },
     "execution_count": 111,
     "metadata": {},
     "output_type": "execute_result"
    }
   ],
   "source": [
    "# read the csv\n",
    "energy_samples = pd.read_csv(\"energy-samples.csv\", sep=\";\")\n",
    "# print the head of the csv\n",
    "energy_samples"
   ]
  },
  {
   "cell_type": "markdown",
   "metadata": {},
   "source": [
    "We can see a table with 6 columns.\n",
    "\n",
    "| Name              | Description |\n",
    "| ---------------- | ---------- |\n",
    "| Timestamp: | the time the factorial function was started |\n",
    "| Tag: | the name of the function that was executed |\n",
    "| Duration: | how long it took to execute the function |\n",
    "| package_0: | the µJ used by the CPU package during the execution |\n",
    "| core_0: | the µJ used by all CPU cores during the execution |\n",
    "| uncore_0: | the µJ used by the integrated GPU during the execution |"
   ]
  },
  {
   "cell_type": "code",
   "execution_count": 112,
   "metadata": {},
   "outputs": [
    {
     "data": {
      "text/html": [
       "<div>\n",
       "<style scoped>\n",
       "    .dataframe tbody tr th:only-of-type {\n",
       "        vertical-align: middle;\n",
       "    }\n",
       "\n",
       "    .dataframe tbody tr th {\n",
       "        vertical-align: top;\n",
       "    }\n",
       "\n",
       "    .dataframe thead th {\n",
       "        text-align: right;\n",
       "    }\n",
       "</style>\n",
       "<table border=\"1\" class=\"dataframe\">\n",
       "  <thead>\n",
       "    <tr style=\"text-align: right;\">\n",
       "      <th></th>\n",
       "      <th>frequency</th>\n",
       "      <th>cpu_time</th>\n",
       "      <th>cycles</th>\n",
       "    </tr>\n",
       "  </thead>\n",
       "  <tbody>\n",
       "    <tr>\n",
       "      <th>0</th>\n",
       "      <td>787.500000</td>\n",
       "      <td>0.171032</td>\n",
       "      <td>1.346881e+08</td>\n",
       "    </tr>\n",
       "    <tr>\n",
       "      <th>1</th>\n",
       "      <td>1667.492875</td>\n",
       "      <td>0.169514</td>\n",
       "      <td>2.826630e+08</td>\n",
       "    </tr>\n",
       "    <tr>\n",
       "      <th>2</th>\n",
       "      <td>1775.608250</td>\n",
       "      <td>0.169122</td>\n",
       "      <td>3.002950e+08</td>\n",
       "    </tr>\n",
       "    <tr>\n",
       "      <th>3</th>\n",
       "      <td>3104.191250</td>\n",
       "      <td>0.176008</td>\n",
       "      <td>5.463628e+08</td>\n",
       "    </tr>\n",
       "    <tr>\n",
       "      <th>4</th>\n",
       "      <td>2447.223250</td>\n",
       "      <td>0.205181</td>\n",
       "      <td>5.021240e+08</td>\n",
       "    </tr>\n",
       "  </tbody>\n",
       "</table>\n",
       "</div>"
      ],
      "text/plain": [
       "     frequency  cpu_time        cycles\n",
       "0   787.500000  0.171032  1.346881e+08\n",
       "1  1667.492875  0.169514  2.826630e+08\n",
       "2  1775.608250  0.169122  3.002950e+08\n",
       "3  3104.191250  0.176008  5.463628e+08\n",
       "4  2447.223250  0.205181  5.021240e+08"
      ]
     },
     "execution_count": 112,
     "metadata": {},
     "output_type": "execute_result"
    }
   ],
   "source": [
    "# read the csv\n",
    "cpu_samples = pd.read_csv(\"cpu-samples.csv\", sep=\";\")\n",
    "# calculate cycles from frequency and cpu_time\n",
    "cpu_samples[\"cycles\"] = (cpu_samples[\"frequency\"] * 1_000_000) * cpu_samples[\"cpu_time\"]\n",
    "\n",
    "# print the head of the csv\n",
    "cpu_samples"
   ]
  },
  {
   "cell_type": "markdown",
   "metadata": {},
   "source": [
    "#### 4. Load the current system-intensity and CPU embodied emissions per functional unit"
   ]
  },
  {
   "cell_type": "markdown",
   "metadata": {},
   "source": []
  },
  {
   "cell_type": "code",
   "execution_count": 113,
   "metadata": {},
   "outputs": [
    {
     "name": "stdout",
     "output_type": "stream",
     "text": [
      "Intensity is: 497.399 gCO2e/kWh\n"
     ]
    }
   ],
   "source": [
    "# load the system-intensity from carbond\n",
    "system_intensity = Path(\"/var/carbond/operational/system-intensity\").read_text()\n",
    "system_intensity = float(system_intensity.split(\" \")[0]) # remove the unit\n",
    "print(f\"Intensity is: {system_intensity} gCO2e/kWh\")"
   ]
  },
  {
   "cell_type": "code",
   "execution_count": 114,
   "metadata": {},
   "outputs": [
    {
     "name": "stdout",
     "output_type": "stream",
     "text": [
      "Intensity is: 5000.0 pg/cycle\n"
     ]
    }
   ],
   "source": [
    "# load the CPU embodied-intensity from carbond\n",
    "cpu_intensity = Path(\"/var/carbond/embodied/cpu\").read_text()\n",
    "cpu_intensity = float(cpu_intensity.split(\" \")[0])  # remove the unit\n",
    "print(f\"Intensity is: {cpu_intensity} pg/cycle\")"
   ]
  },
  {
   "cell_type": "markdown",
   "metadata": {},
   "source": [
    "#### 5. Calculate the average package operational emissions"
   ]
  },
  {
   "cell_type": "markdown",
   "metadata": {},
   "source": []
  },
  {
   "cell_type": "code",
   "execution_count": 115,
   "metadata": {},
   "outputs": [
    {
     "name": "stdout",
     "output_type": "stream",
     "text": [
      "Average package_0 energy usage is: 2509710.6 µJ (0.0006971418333333334 kWh)\n"
     ]
    }
   ],
   "source": [
    "# calculate the mean of all package_0 entries\n",
    "avg_package_usage_uj = float(energy_samples[\"package_0\"].mean())\n",
    "avg_package_usage_kwh = avg_package_usage_uj / 3_600_000_000\n",
    "print(f\"Average package_0 energy usage is: {avg_package_usage_uj} µJ ({avg_package_usage_kwh} kWh)\")\n"
   ]
  },
  {
   "cell_type": "code",
   "execution_count": 116,
   "metadata": {},
   "outputs": [
    {
     "name": "stdout",
     "output_type": "stream",
     "text": [
      "Operational carbon emission (CPU_PACKAGE) per function execution is: 0.3467576507581667 gCO2e\n"
     ]
    }
   ],
   "source": [
    "# calculate the carbon emissions\n",
    "operational_avg_emissions_g = avg_package_usage_kwh * system_intensity\n",
    "print(f\"Operational carbon emission (CPU_PACKAGE) per function execution is: {operational_avg_emissions_g} gCO2e\")"
   ]
  },
  {
   "cell_type": "markdown",
   "metadata": {},
   "source": [
    "#### 6. Calculate the total package operational emissions"
   ]
  },
  {
   "cell_type": "markdown",
   "metadata": {},
   "source": []
  },
  {
   "cell_type": "code",
   "execution_count": 117,
   "metadata": {},
   "outputs": [
    {
     "name": "stdout",
     "output_type": "stream",
     "text": [
      "Total package_0 energy usage is: 12548553.0 µJ (0.0034857091666666666 kWh)\n"
     ]
    }
   ],
   "source": [
    "# calculate the sum of all package_0 entries\n",
    "total_package_usage_uj = float(energy_samples[\"package_0\"].sum())\n",
    "total_package_usage_kwh = total_package_usage_uj / 3_600_000_000\n",
    "print(f\"Total package_0 energy usage is: {total_package_usage_uj} µJ ({total_package_usage_kwh} kWh)\")\n"
   ]
  },
  {
   "cell_type": "code",
   "execution_count": 118,
   "metadata": {},
   "outputs": [
    {
     "name": "stdout",
     "output_type": "stream",
     "text": [
      "Operational carbon emission (CPU_PACKAGE) for all executions is: 1.7337882537908333 gCO2e\n"
     ]
    }
   ],
   "source": [
    "# calculate the carbon emissions\n",
    "operational_total_emissions_g = total_package_usage_kwh * system_intensity\n",
    "print(f\"Operational carbon emission (CPU_PACKAGE) for all executions is: {operational_total_emissions_g} gCO2e\")"
   ]
  },
  {
   "cell_type": "markdown",
   "metadata": {},
   "source": [
    "#### 7. Calculate the average CPU embodied emissions"
   ]
  },
  {
   "cell_type": "markdown",
   "metadata": {},
   "source": []
  },
  {
   "cell_type": "code",
   "execution_count": 119,
   "metadata": {},
   "outputs": [
    {
     "name": "stdout",
     "output_type": "stream",
     "text": [
      "Average number of cycles is: 353226567.2358924 cycles\n"
     ]
    }
   ],
   "source": [
    "# calculate the mean of cpu cycles\n",
    "avg_cycles = float(cpu_samples[\"cycles\"].mean())\n",
    "print(f\"Average number of cycles is: {avg_cycles} cycles\")\n"
   ]
  },
  {
   "cell_type": "code",
   "execution_count": 120,
   "metadata": {},
   "outputs": [
    {
     "name": "stdout",
     "output_type": "stream",
     "text": [
      "Embodied carbon emission (CPU) per function execution is: 1.7661328361794622 gCO2e\n"
     ]
    }
   ],
   "source": [
    "# calculate the carbon emissions\n",
    "embodied_avg_emissions_pg = avg_cycles * cpu_intensity\n",
    "embodied_avg_emissions_g = embodied_avg_emissions_pg / 1_000_000_000_000\n",
    "print(f\"Embodied carbon emission (CPU) per function execution is: {embodied_avg_emissions_g} gCO2e\")"
   ]
  },
  {
   "cell_type": "markdown",
   "metadata": {},
   "source": [
    "#### 8. Calculate the total CPU embodied emissions"
   ]
  },
  {
   "cell_type": "markdown",
   "metadata": {},
   "source": []
  },
  {
   "cell_type": "code",
   "execution_count": 121,
   "metadata": {},
   "outputs": [
    {
     "name": "stdout",
     "output_type": "stream",
     "text": [
      "Total number of cycles is: 1766132836.1794622 cycles\n"
     ]
    }
   ],
   "source": [
    "# calculate the total of cpu cycles\n",
    "total_cycles = float(cpu_samples[\"cycles\"].sum())\n",
    "print(f\"Total number of cycles is: {total_cycles} cycles\")\n"
   ]
  },
  {
   "cell_type": "code",
   "execution_count": 122,
   "metadata": {},
   "outputs": [
    {
     "name": "stdout",
     "output_type": "stream",
     "text": [
      "Embodied carbon emission (CPU) for all executions is: 8.83066418089731 gCO2e\n"
     ]
    }
   ],
   "source": [
    "# calculate the carbon emissions\n",
    "embodied_total_emissions_pg = total_cycles * cpu_intensity\n",
    "embodied_total_emissions_g = embodied_total_emissions_pg / 1_000_000_000_000\n",
    "print(f\"Embodied carbon emission (CPU) for all executions is: {embodied_total_emissions_g} gCO2e\")"
   ]
  },
  {
   "cell_type": "markdown",
   "metadata": {},
   "source": [
    "#### 9. Add-up operational and embodied CPU emissions"
   ]
  },
  {
   "cell_type": "markdown",
   "metadata": {},
   "source": []
  },
  {
   "cell_type": "markdown",
   "metadata": {},
   "source": [
    "##### 9.1 Average emissions"
   ]
  },
  {
   "cell_type": "code",
   "execution_count": 123,
   "metadata": {},
   "outputs": [
    {
     "name": "stdout",
     "output_type": "stream",
     "text": [
      "Combined carbon emission (CPU) for each execution is: 2.112890486937629 gCO2e\n"
     ]
    }
   ],
   "source": [
    "combined_avg_emissions_g = operational_avg_emissions_g + embodied_avg_emissions_g\n",
    "print(f\"Combined carbon emission (CPU) for each execution is: {combined_avg_emissions_g} gCO2e\")"
   ]
  },
  {
   "cell_type": "markdown",
   "metadata": {},
   "source": [
    "##### 9.2 Total emissions"
   ]
  },
  {
   "cell_type": "code",
   "execution_count": 124,
   "metadata": {},
   "outputs": [
    {
     "name": "stdout",
     "output_type": "stream",
     "text": [
      "Combined carbon emission (CPU) for all executions is: 10.564452434688143 gCO2e\n"
     ]
    }
   ],
   "source": [
    "combined_total_emissions_g = operational_total_emissions_g + embodied_total_emissions_g\n",
    "print(f\"Combined carbon emission (CPU) for all executions is: {combined_total_emissions_g} gCO2e\")"
   ]
  },
  {
   "cell_type": "markdown",
   "metadata": {},
   "source": [
    "## Results"
   ]
  },
  {
   "cell_type": "markdown",
   "metadata": {},
   "source": []
  },
  {
   "cell_type": "code",
   "execution_count": 125,
   "metadata": {},
   "outputs": [
    {
     "data": {
      "text/html": [
       "<table>\n",
       "<thead>\n",
       "<tr><th>           </th><th style=\"text-align: right;\">  Average</th><th style=\"text-align: right;\">   Total</th></tr>\n",
       "</thead>\n",
       "<tbody>\n",
       "<tr><td>Operational</td><td style=\"text-align: right;\"> 0.346758</td><td style=\"text-align: right;\"> 1.73379</td></tr>\n",
       "<tr><td>Embodied   </td><td style=\"text-align: right;\"> 1.76613 </td><td style=\"text-align: right;\"> 8.83066</td></tr>\n",
       "<tr><td>Overall    </td><td style=\"text-align: right;\"> 2.11289 </td><td style=\"text-align: right;\">10.5645 </td></tr>\n",
       "</tbody>\n",
       "</table>"
      ],
      "text/plain": [
       "'<table>\\n<thead>\\n<tr><th>           </th><th style=\"text-align: right;\">  Average</th><th style=\"text-align: right;\">   Total</th></tr>\\n</thead>\\n<tbody>\\n<tr><td>Operational</td><td style=\"text-align: right;\"> 0.346758</td><td style=\"text-align: right;\"> 1.73379</td></tr>\\n<tr><td>Embodied   </td><td style=\"text-align: right;\"> 1.76613 </td><td style=\"text-align: right;\"> 8.83066</td></tr>\\n<tr><td>Overall    </td><td style=\"text-align: right;\"> 2.11289 </td><td style=\"text-align: right;\">10.5645 </td></tr>\\n</tbody>\\n</table>'"
      ]
     },
     "execution_count": 125,
     "metadata": {},
     "output_type": "execute_result"
    }
   ],
   "source": [
    "import tabulate\n",
    "data = [\n",
    "    [\"Operational\", operational_avg_emissions_g, operational_total_emissions_g],\n",
    "    [\"Embodied\", embodied_avg_emissions_g, embodied_total_emissions_g],\n",
    "    [\"Overall\", combined_avg_emissions_g, combined_total_emissions_g]\n",
    "]\n",
    "table = tabulate.tabulate(data, tablefmt='html', headers=[\"\", \"Average\", \"Total\"])\n",
    "table"
   ]
  }
 ],
 "metadata": {
  "kernelspec": {
   "display_name": ".venv",
   "language": "python",
   "name": "python3"
  },
  "language_info": {
   "codemirror_mode": {
    "name": "ipython",
    "version": 3
   },
   "file_extension": ".py",
   "mimetype": "text/x-python",
   "name": "python",
   "nbconvert_exporter": "python",
   "pygments_lexer": "ipython3",
   "version": "3.12.4"
  }
 },
 "nbformat": 4,
 "nbformat_minor": 2
}
